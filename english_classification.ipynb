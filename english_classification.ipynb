{
 "cells": [
  {
   "cell_type": "code",
   "execution_count": 1,
   "id": "a3776fc2",
   "metadata": {},
   "outputs": [],
   "source": [
    "import streamlit as st\n",
    "import matplotlib.pyplot as plt\n",
    "from textblob import TextBlob  # Importing TextBlob for sentiment analysis\n",
    "from transformers import pipeline\n",
    "\n",
    "from langchain.prompts import PromptTemplate\n",
    "from langchain.llms import CTransformers\n"
   ]
  },
  {
   "cell_type": "code",
   "execution_count": 2,
   "id": "efdb30d5",
   "metadata": {},
   "outputs": [],
   "source": [
    "model_name=\"SamLowe/roberta-base-go_emotions\"\n",
    "#change model_name from below\n",
    "#\"SamLowe/roberta-base-go_emotions\"\n",
    "#\"lxyuan/distilbert-base-multilingual-cased-sentiments-student\"\n",
    "#\"mrm8488/distilroberta-finetuned-financial-news-sentiment-analysis\"\n",
    "#\"michellejieli/emotion_text_classifier\"\n",
    "\n"
   ]
  },
  {
   "cell_type": "code",
   "execution_count": 3,
   "id": "56d5a0f2",
   "metadata": {},
   "outputs": [],
   "source": [
    "## Function To get response from Hugging Face model\n",
    "\n",
    "def getHuggingFaceResponse(input_text, model_name):\n",
    "    # Load the model from Hugging Face Model Hub\n",
    "    classifier = pipeline(\"sentiment-analysis\", model=model_name)\n",
    "    # Perform sentiment analysis\n",
    "    result = classifier(input_text)\n",
    "    return result"
   ]
  },
  {
   "cell_type": "code",
   "execution_count": 6,
   "id": "3fd88f01",
   "metadata": {},
   "outputs": [],
   "source": [
    "# Function to perform sentiment analysis using TextBlob\n",
    "def analyze_sentiment(input_text):\n",
    "    blob = TextBlob(input_text)\n",
    "    polarity = blob.sentiment.polarity\n",
    "    subjectivity = blob.sentiment.subjectivity\n",
    "    # Get individual sentiment scores\n",
    "    sentiment = \"Positive\" if polarity > -0.5 else \"Neutral\" if -0.05 <= polarity <= 0.5 else \"negative\"\n",
    "    polarity_sign = \"-\" if polarity < 0.2 else \"+\"  # Sign for polarity score\n",
    "            \n",
    "    return polarity, subjectivity, sentiment, polarity_sign"
   ]
  },
  {
   "cell_type": "code",
   "execution_count": 19,
   "id": "8ca1acce",
   "metadata": {},
   "outputs": [],
   "source": [
    "input_text = \"the product was awesome and the look was bad\""
   ]
  },
  {
   "cell_type": "code",
   "execution_count": 20,
   "id": "f9b664e8",
   "metadata": {},
   "outputs": [],
   "source": [
    "# Define prompt template\n",
    "prompt_template = \"What is the sentiment of \\\"{input_text}\\\" It is {sentiment}\"\n",
    "\n",
    "    # Create a prompt using the template\n",
    "prompt = PromptTemplate(input_variables=[\"input_text\", \"sentiment\"], template=prompt_template)\n",
    "\n",
    "    # Analyze sentiment using TextBlob\n",
    "polarity, subjectivity, sentiment, polarity_sign= analyze_sentiment(input_text)\n",
    "\n",
    "    # Generate the formatted prompt\n",
    "formatted_prompt = prompt.format(input_text=input_text, sentiment=sentiment)"
   ]
  },
  {
   "cell_type": "code",
   "execution_count": 21,
   "id": "d100e5a5",
   "metadata": {},
   "outputs": [],
   "source": [
    "   # Get response from Hugging Face model\n",
    "hugging_face_response = getHuggingFaceResponse(formatted_prompt, model_name)\n",
    "sentiment_label = hugging_face_response[0]['label']  # Extracting only the label from the response"
   ]
  },
  {
   "cell_type": "code",
   "execution_count": 22,
   "id": "84383892",
   "metadata": {},
   "outputs": [
    {
     "name": "stdout",
     "output_type": "stream",
     "text": [
      "Sentiment : admiration\n"
     ]
    }
   ],
   "source": [
    "print(\"Sentiment :\", sentiment_label)"
   ]
  },
  {
   "cell_type": "code",
   "execution_count": 23,
   "id": "1e04ca09",
   "metadata": {},
   "outputs": [],
   "source": [
    " # Analyze sentiment using TextBlob\n",
    "polarity, subjectivity, sentiment, polarity_sign= analyze_sentiment(input_text)\n"
   ]
  },
  {
   "cell_type": "code",
   "execution_count": 24,
   "id": "0274548d",
   "metadata": {},
   "outputs": [
    {
     "name": "stdout",
     "output_type": "stream",
     "text": [
      "Polarity Score: - 0.15000000000000008\n",
      "Sentiment Subjectivity: 0.8333333333333333\n"
     ]
    }
   ],
   "source": [
    "print(\"Polarity Score:\", polarity_sign + \" \" + str(abs(polarity)))  # Displaying the polarity score with sign\n",
    "print(f\"Sentiment Subjectivity: {subjectivity}\")"
   ]
  },
  {
   "cell_type": "code",
   "execution_count": null,
   "id": "efe96238",
   "metadata": {},
   "outputs": [],
   "source": []
  },
  {
   "cell_type": "code",
   "execution_count": null,
   "id": "ec751854",
   "metadata": {},
   "outputs": [],
   "source": []
  },
  {
   "cell_type": "code",
   "execution_count": null,
   "id": "0e3a2d45",
   "metadata": {},
   "outputs": [],
   "source": []
  },
  {
   "cell_type": "code",
   "execution_count": null,
   "id": "40462400",
   "metadata": {},
   "outputs": [],
   "source": []
  },
  {
   "cell_type": "code",
   "execution_count": null,
   "id": "4b78780f",
   "metadata": {},
   "outputs": [],
   "source": []
  },
  {
   "cell_type": "code",
   "execution_count": null,
   "id": "0a36639f",
   "metadata": {},
   "outputs": [],
   "source": []
  },
  {
   "cell_type": "code",
   "execution_count": null,
   "id": "1d849774",
   "metadata": {},
   "outputs": [],
   "source": []
  },
  {
   "cell_type": "code",
   "execution_count": null,
   "id": "0b373190",
   "metadata": {},
   "outputs": [],
   "source": []
  },
  {
   "cell_type": "code",
   "execution_count": null,
   "id": "d1d0e11a",
   "metadata": {},
   "outputs": [],
   "source": []
  },
  {
   "cell_type": "code",
   "execution_count": null,
   "id": "88af411d",
   "metadata": {},
   "outputs": [],
   "source": []
  },
  {
   "cell_type": "code",
   "execution_count": null,
   "id": "7fa2dc13",
   "metadata": {},
   "outputs": [],
   "source": []
  },
  {
   "cell_type": "code",
   "execution_count": null,
   "id": "39140990",
   "metadata": {},
   "outputs": [],
   "source": []
  },
  {
   "cell_type": "code",
   "execution_count": null,
   "id": "0b725a23",
   "metadata": {},
   "outputs": [],
   "source": []
  },
  {
   "cell_type": "code",
   "execution_count": null,
   "id": "fb5a1352",
   "metadata": {},
   "outputs": [],
   "source": []
  },
  {
   "cell_type": "code",
   "execution_count": null,
   "id": "2571de65",
   "metadata": {},
   "outputs": [],
   "source": []
  },
  {
   "cell_type": "code",
   "execution_count": null,
   "id": "f8b50e03",
   "metadata": {},
   "outputs": [],
   "source": []
  },
  {
   "cell_type": "code",
   "execution_count": null,
   "id": "c38ab8f2",
   "metadata": {},
   "outputs": [],
   "source": []
  },
  {
   "cell_type": "code",
   "execution_count": null,
   "id": "fa1fc8c4",
   "metadata": {},
   "outputs": [],
   "source": []
  },
  {
   "cell_type": "code",
   "execution_count": null,
   "id": "c01cb231",
   "metadata": {},
   "outputs": [],
   "source": []
  },
  {
   "cell_type": "code",
   "execution_count": null,
   "id": "d5092c25",
   "metadata": {},
   "outputs": [],
   "source": []
  },
  {
   "cell_type": "code",
   "execution_count": null,
   "id": "9fb8e13d",
   "metadata": {},
   "outputs": [],
   "source": []
  }
 ],
 "metadata": {
  "kernelspec": {
   "display_name": "Python 3 (ipykernel)",
   "language": "python",
   "name": "python3"
  },
  "language_info": {
   "codemirror_mode": {
    "name": "ipython",
    "version": 3
   },
   "file_extension": ".py",
   "mimetype": "text/x-python",
   "name": "python",
   "nbconvert_exporter": "python",
   "pygments_lexer": "ipython3",
   "version": "3.9.12"
  }
 },
 "nbformat": 4,
 "nbformat_minor": 5
}
