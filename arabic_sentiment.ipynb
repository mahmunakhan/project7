{
 "cells": [
  {
   "cell_type": "code",
   "execution_count": 7,
   "id": "3a5e391c",
   "metadata": {},
   "outputs": [],
   "source": [
    "import streamlit as st\n",
    "from langchain.prompts import PromptTemplate\n",
    "from langchain.llms import CTransformers\n",
    "from transformers import pipeline"
   ]
  },
  {
   "cell_type": "code",
   "execution_count": 8,
   "id": "94bea328",
   "metadata": {},
   "outputs": [],
   "source": [
    "## Function To get response from LLAma 2 model\n",
    "\n",
    "def getLLmresponse(input_text):\n",
    "        #llm=\"lxyuan/distilbert-base-multilingual-cased-sentiments-student\"\n",
    "\n",
    "        # Load the model from Hugging Face Model Hub\n",
    "        classifier = pipeline(\"sentiment-analysis\", model=\"CAMeL-Lab/bert-base-arabic-camelbert-da-sentiment\")\n",
    "        # Perform sentiment analysis\n",
    "        \n",
    "\n",
    "\n",
    "    \n",
    "        ## Prompt Template\n",
    "\n",
    "        template=\"\"\"\n",
    "            What is the sentiment of {input_text} ?\n",
    "            \n",
    "\n",
    "            \"\"\"\n",
    "        \n",
    "        prompt=PromptTemplate(input_variables=[\"input_text\"],\n",
    "                            template=template)\n",
    "        \n",
    "        ## Generate the ressponse from the LLm 2 model\n",
    "        response=classifier(prompt.format(input_text=input_text))\n",
    "        print(response)\n",
    "        return response"
   ]
  },
  {
   "cell_type": "code",
   "execution_count": 17,
   "id": "c971c290",
   "metadata": {},
   "outputs": [],
   "source": [
    "input_text=\"كان المنتج جيدًا\"\n",
    "\n",
    "\n",
    "\n",
    "\n",
    "\n",
    "\n",
    "\n"
   ]
  },
  {
   "cell_type": "code",
   "execution_count": 18,
   "id": "c3905d07",
   "metadata": {},
   "outputs": [
    {
     "name": "stdout",
     "output_type": "stream",
     "text": [
      "[{'label': 'neutral', 'score': 0.9781946539878845}]\n",
      "[{'label': 'neutral', 'score': 0.9781946539878845}]\n"
     ]
    }
   ],
   "source": [
    "if input_text:\n",
    "    print(getLLmresponse(input_text))\n",
    "   "
   ]
  },
  {
   "cell_type": "code",
   "execution_count": null,
   "id": "5b1e9e03",
   "metadata": {},
   "outputs": [],
   "source": []
  }
 ],
 "metadata": {
  "kernelspec": {
   "display_name": "Python 3 (ipykernel)",
   "language": "python",
   "name": "python3"
  },
  "language_info": {
   "codemirror_mode": {
    "name": "ipython",
    "version": 3
   },
   "file_extension": ".py",
   "mimetype": "text/x-python",
   "name": "python",
   "nbconvert_exporter": "python",
   "pygments_lexer": "ipython3",
   "version": "3.9.12"
  }
 },
 "nbformat": 4,
 "nbformat_minor": 5
}
